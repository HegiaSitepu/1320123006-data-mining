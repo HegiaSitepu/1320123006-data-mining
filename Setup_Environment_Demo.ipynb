{
  "nbformat": 4,
  "nbformat_minor": 0,
  "metadata": {
    "colab": {
      "provenance": [],
      "authorship_tag": "ABX9TyPawp9tviE3rv6aIc/UMpcv",
      "include_colab_link": true
    },
    "kernelspec": {
      "name": "python3",
      "display_name": "Python 3"
    },
    "language_info": {
      "name": "python"
    }
  },
  "cells": [
    {
      "cell_type": "markdown",
      "metadata": {
        "id": "view-in-github",
        "colab_type": "text"
      },
      "source": [
        "<a href=\"https://colab.research.google.com/github/HegiaSitepu/1320123006-data-mining/blob/main/Setup_Environment_Demo.ipynb\" target=\"_parent\"><img src=\"https://colab.research.google.com/assets/colab-badge.svg\" alt=\"Open In Colab\"/></a>"
      ]
    },
    {
      "cell_type": "code",
      "execution_count": null,
      "metadata": {
        "id": "Z3jZAWlmbdHT"
      },
      "outputs": [],
      "source": [
        "!git clone https://github.com/HegiaSitepu/1320123006-data-mining.git\n",
        "print(\"Hello, Data Mining!\")\n",
        "\n",
        "import pandas as pd\n",
        "print(\"Versi Pandas yang terinstall:\", pd.__version__)\n"
      ]
    }
  ]
}